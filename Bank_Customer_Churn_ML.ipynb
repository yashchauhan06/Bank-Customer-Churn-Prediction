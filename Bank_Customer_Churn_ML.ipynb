{
 "cells": [
  {
   "cell_type": "markdown",
   "id": "368acd05",
   "metadata": {},
   "source": [
    "# Assignment: Bank Customer Churn Prediction"
   ]
  },
  {
   "cell_type": "markdown",
   "id": "46e1568f",
   "metadata": {},
   "source": [
    "## Step1: Dataset Selection"
   ]
  },
  {
   "cell_type": "markdown",
   "id": "480f8257",
   "metadata": {},
   "source": [
    "- In this assignment to perform logistic regression and KNN regressor modeling, I have used the churn modelling data set from Kaggle(https://www.kaggle.com/datasets/shrutimechlearn/churn-modelling).\n",
    "- This data set contains details of customers in bank and the target variable is a binary variable which shows whether the customer left the bank (closed his account) or he continues to be a customer.\n",
    "\n",
    "Data set variables:\n",
    "\n",
    "* RowNumber: Row Numbers from 1 to 10000\n",
    "* CustomerId: Unique Ids for bank customer identification\n",
    "* Surname: Customer's last name\n",
    "* CreditScore: Credit score of the customer\n",
    "* Geography: The country from which the customer belongs\n",
    "* Gender: Male or Female\n",
    "* Age: Age of the customer\n",
    "* Tenure:Number of years for which the customer has been with the bank\n",
    "* Balance:Bank balance of the customer\n",
    "* NumOfProducts: Number of bank products the customer is utilising\n",
    "* HasCrCard: Whether customer has credit card\n",
    "* IsActiveMember: Whether customer is active member of the bank or not.\n",
    "* EstimatedSalary: Estimated salary for customer\n",
    "* Exited: Binary variable which shows whether the customer left the bank (closed his account) or he continues to be a customer"
   ]
  },
  {
   "cell_type": "markdown",
   "id": "eae4937e",
   "metadata": {},
   "source": [
    "## Step2: Data Loading and Cleaning"
   ]
  },
  {
   "cell_type": "markdown",
   "id": "ed2e9cb2",
   "metadata": {},
   "source": [
    "### 2.1. Load the dataset into a Pandas DataFrame.\n",
    "\n",
    "Import the required libraries and load the dataset."
   ]
  },
  {
   "cell_type": "code",
   "execution_count": 1,
   "id": "65da35da",
   "metadata": {},
   "outputs": [
    {
     "name": "stderr",
     "output_type": "stream",
     "text": [
      "C:\\Users\\yashc\\AppData\\Local\\Temp\\ipykernel_20908\\2051354866.py:17: FutureWarning: use_inf_as_na option is deprecated and will be removed in a future version. Convert inf values to NaN before operating instead.\n",
      "  pd.options.mode.use_inf_as_na = True\n"
     ]
    }
   ],
   "source": [
    "# Import libraries\n",
    "import numpy as np\n",
    "import pandas as pd\n",
    "from sklearn.model_selection import train_test_split, GridSearchCV\n",
    "from sklearn.linear_model import LogisticRegression\n",
    "from sklearn.neighbors import KNeighborsClassifier\n",
    "from sklearn.metrics import (\n",
    "    confusion_matrix, ConfusionMatrixDisplay,\n",
    "    accuracy_score, precision_score, recall_score, f1_score, mean_squared_error\n",
    ")\n",
    "from sklearn.preprocessing import OrdinalEncoder, StandardScaler, LabelEncoder\n",
    "from sklearn.model_selection import train_test_split\n",
    "import matplotlib.pyplot as plt\n",
    "import seaborn as sns\n",
    "\n",
    "# Ensure compatibility with Pandas 3\n",
    "pd.options.mode.use_inf_as_na = True\n",
    "\n",
    "# set random seed\n",
    "np.random.seed(10)"
   ]
  },
  {
   "cell_type": "code",
   "execution_count": 2,
   "id": "0d13f6df",
   "metadata": {},
   "outputs": [
    {
     "data": {
      "text/html": [
       "<div>\n",
       "<style scoped>\n",
       "    .dataframe tbody tr th:only-of-type {\n",
       "        vertical-align: middle;\n",
       "    }\n",
       "\n",
       "    .dataframe tbody tr th {\n",
       "        vertical-align: top;\n",
       "    }\n",
       "\n",
       "    .dataframe thead th {\n",
       "        text-align: right;\n",
       "    }\n",
       "</style>\n",
       "<table border=\"1\" class=\"dataframe\">\n",
       "  <thead>\n",
       "    <tr style=\"text-align: right;\">\n",
       "      <th></th>\n",
       "      <th>RowNumber</th>\n",
       "      <th>CustomerId</th>\n",
       "      <th>Surname</th>\n",
       "      <th>CreditScore</th>\n",
       "      <th>Geography</th>\n",
       "      <th>Gender</th>\n",
       "      <th>Age</th>\n",
       "      <th>Tenure</th>\n",
       "      <th>Balance</th>\n",
       "      <th>NumOfProducts</th>\n",
       "      <th>HasCrCard</th>\n",
       "      <th>IsActiveMember</th>\n",
       "      <th>EstimatedSalary</th>\n",
       "      <th>Exited</th>\n",
       "    </tr>\n",
       "  </thead>\n",
       "  <tbody>\n",
       "    <tr>\n",
       "      <th>0</th>\n",
       "      <td>1</td>\n",
       "      <td>15634602</td>\n",
       "      <td>Hargrave</td>\n",
       "      <td>619</td>\n",
       "      <td>France</td>\n",
       "      <td>Female</td>\n",
       "      <td>42</td>\n",
       "      <td>2</td>\n",
       "      <td>0.00</td>\n",
       "      <td>1</td>\n",
       "      <td>1</td>\n",
       "      <td>1</td>\n",
       "      <td>101348.88</td>\n",
       "      <td>1</td>\n",
       "    </tr>\n",
       "    <tr>\n",
       "      <th>1</th>\n",
       "      <td>2</td>\n",
       "      <td>15647311</td>\n",
       "      <td>Hill</td>\n",
       "      <td>608</td>\n",
       "      <td>Spain</td>\n",
       "      <td>Female</td>\n",
       "      <td>41</td>\n",
       "      <td>1</td>\n",
       "      <td>83807.86</td>\n",
       "      <td>1</td>\n",
       "      <td>0</td>\n",
       "      <td>1</td>\n",
       "      <td>112542.58</td>\n",
       "      <td>0</td>\n",
       "    </tr>\n",
       "    <tr>\n",
       "      <th>2</th>\n",
       "      <td>3</td>\n",
       "      <td>15619304</td>\n",
       "      <td>Onio</td>\n",
       "      <td>502</td>\n",
       "      <td>France</td>\n",
       "      <td>Female</td>\n",
       "      <td>42</td>\n",
       "      <td>8</td>\n",
       "      <td>159660.80</td>\n",
       "      <td>3</td>\n",
       "      <td>1</td>\n",
       "      <td>0</td>\n",
       "      <td>113931.57</td>\n",
       "      <td>1</td>\n",
       "    </tr>\n",
       "    <tr>\n",
       "      <th>3</th>\n",
       "      <td>4</td>\n",
       "      <td>15701354</td>\n",
       "      <td>Boni</td>\n",
       "      <td>699</td>\n",
       "      <td>France</td>\n",
       "      <td>Female</td>\n",
       "      <td>39</td>\n",
       "      <td>1</td>\n",
       "      <td>0.00</td>\n",
       "      <td>2</td>\n",
       "      <td>0</td>\n",
       "      <td>0</td>\n",
       "      <td>93826.63</td>\n",
       "      <td>0</td>\n",
       "    </tr>\n",
       "    <tr>\n",
       "      <th>4</th>\n",
       "      <td>5</td>\n",
       "      <td>15737888</td>\n",
       "      <td>Mitchell</td>\n",
       "      <td>850</td>\n",
       "      <td>Spain</td>\n",
       "      <td>Female</td>\n",
       "      <td>43</td>\n",
       "      <td>2</td>\n",
       "      <td>125510.82</td>\n",
       "      <td>1</td>\n",
       "      <td>1</td>\n",
       "      <td>1</td>\n",
       "      <td>79084.10</td>\n",
       "      <td>0</td>\n",
       "    </tr>\n",
       "    <tr>\n",
       "      <th>5</th>\n",
       "      <td>6</td>\n",
       "      <td>15574012</td>\n",
       "      <td>Chu</td>\n",
       "      <td>645</td>\n",
       "      <td>Spain</td>\n",
       "      <td>Male</td>\n",
       "      <td>44</td>\n",
       "      <td>8</td>\n",
       "      <td>113755.78</td>\n",
       "      <td>2</td>\n",
       "      <td>1</td>\n",
       "      <td>0</td>\n",
       "      <td>149756.71</td>\n",
       "      <td>1</td>\n",
       "    </tr>\n",
       "    <tr>\n",
       "      <th>6</th>\n",
       "      <td>7</td>\n",
       "      <td>15592531</td>\n",
       "      <td>Bartlett</td>\n",
       "      <td>822</td>\n",
       "      <td>France</td>\n",
       "      <td>Male</td>\n",
       "      <td>50</td>\n",
       "      <td>7</td>\n",
       "      <td>0.00</td>\n",
       "      <td>2</td>\n",
       "      <td>1</td>\n",
       "      <td>1</td>\n",
       "      <td>10062.80</td>\n",
       "      <td>0</td>\n",
       "    </tr>\n",
       "    <tr>\n",
       "      <th>7</th>\n",
       "      <td>8</td>\n",
       "      <td>15656148</td>\n",
       "      <td>Obinna</td>\n",
       "      <td>376</td>\n",
       "      <td>Germany</td>\n",
       "      <td>Female</td>\n",
       "      <td>29</td>\n",
       "      <td>4</td>\n",
       "      <td>115046.74</td>\n",
       "      <td>4</td>\n",
       "      <td>1</td>\n",
       "      <td>0</td>\n",
       "      <td>119346.88</td>\n",
       "      <td>1</td>\n",
       "    </tr>\n",
       "    <tr>\n",
       "      <th>8</th>\n",
       "      <td>9</td>\n",
       "      <td>15792365</td>\n",
       "      <td>He</td>\n",
       "      <td>501</td>\n",
       "      <td>France</td>\n",
       "      <td>Male</td>\n",
       "      <td>44</td>\n",
       "      <td>4</td>\n",
       "      <td>142051.07</td>\n",
       "      <td>2</td>\n",
       "      <td>0</td>\n",
       "      <td>1</td>\n",
       "      <td>74940.50</td>\n",
       "      <td>0</td>\n",
       "    </tr>\n",
       "    <tr>\n",
       "      <th>9</th>\n",
       "      <td>10</td>\n",
       "      <td>15592389</td>\n",
       "      <td>H?</td>\n",
       "      <td>684</td>\n",
       "      <td>France</td>\n",
       "      <td>Male</td>\n",
       "      <td>27</td>\n",
       "      <td>2</td>\n",
       "      <td>134603.88</td>\n",
       "      <td>1</td>\n",
       "      <td>1</td>\n",
       "      <td>1</td>\n",
       "      <td>71725.73</td>\n",
       "      <td>0</td>\n",
       "    </tr>\n",
       "  </tbody>\n",
       "</table>\n",
       "</div>"
      ],
      "text/plain": [
       "   RowNumber  CustomerId   Surname  CreditScore Geography  Gender  Age  \\\n",
       "0          1    15634602  Hargrave          619    France  Female   42   \n",
       "1          2    15647311      Hill          608     Spain  Female   41   \n",
       "2          3    15619304      Onio          502    France  Female   42   \n",
       "3          4    15701354      Boni          699    France  Female   39   \n",
       "4          5    15737888  Mitchell          850     Spain  Female   43   \n",
       "5          6    15574012       Chu          645     Spain    Male   44   \n",
       "6          7    15592531  Bartlett          822    France    Male   50   \n",
       "7          8    15656148    Obinna          376   Germany  Female   29   \n",
       "8          9    15792365        He          501    France    Male   44   \n",
       "9         10    15592389        H?          684    France    Male   27   \n",
       "\n",
       "   Tenure    Balance  NumOfProducts  HasCrCard  IsActiveMember  \\\n",
       "0       2       0.00              1          1               1   \n",
       "1       1   83807.86              1          0               1   \n",
       "2       8  159660.80              3          1               0   \n",
       "3       1       0.00              2          0               0   \n",
       "4       2  125510.82              1          1               1   \n",
       "5       8  113755.78              2          1               0   \n",
       "6       7       0.00              2          1               1   \n",
       "7       4  115046.74              4          1               0   \n",
       "8       4  142051.07              2          0               1   \n",
       "9       2  134603.88              1          1               1   \n",
       "\n",
       "   EstimatedSalary  Exited  \n",
       "0        101348.88       1  \n",
       "1        112542.58       0  \n",
       "2        113931.57       1  \n",
       "3         93826.63       0  \n",
       "4         79084.10       0  \n",
       "5        149756.71       1  \n",
       "6         10062.80       0  \n",
       "7        119346.88       1  \n",
       "8         74940.50       0  \n",
       "9         71725.73       0  "
      ]
     },
     "execution_count": 2,
     "metadata": {},
     "output_type": "execute_result"
    }
   ],
   "source": [
    "# Load the dataset\n",
    "customer_retention_data = pd.read_csv(r\"C:\\Users\\yashc\\Downloads\\archive (3)\\Churn_Modelling.csv\")\n",
    "customer_retention_data.head(10)"
   ]
  },
  {
   "cell_type": "code",
   "execution_count": 3,
   "id": "360be5d8",
   "metadata": {},
   "outputs": [
    {
     "name": "stdout",
     "output_type": "stream",
     "text": [
      "<class 'pandas.core.frame.DataFrame'>\n",
      "RangeIndex: 10000 entries, 0 to 9999\n",
      "Data columns (total 14 columns):\n",
      " #   Column           Non-Null Count  Dtype  \n",
      "---  ------           --------------  -----  \n",
      " 0   RowNumber        10000 non-null  int64  \n",
      " 1   CustomerId       10000 non-null  int64  \n",
      " 2   Surname          10000 non-null  object \n",
      " 3   CreditScore      10000 non-null  int64  \n",
      " 4   Geography        10000 non-null  object \n",
      " 5   Gender           10000 non-null  object \n",
      " 6   Age              10000 non-null  int64  \n",
      " 7   Tenure           10000 non-null  int64  \n",
      " 8   Balance          10000 non-null  float64\n",
      " 9   NumOfProducts    10000 non-null  int64  \n",
      " 10  HasCrCard        10000 non-null  int64  \n",
      " 11  IsActiveMember   10000 non-null  int64  \n",
      " 12  EstimatedSalary  10000 non-null  float64\n",
      " 13  Exited           10000 non-null  int64  \n",
      "dtypes: float64(2), int64(9), object(3)\n",
      "memory usage: 1.1+ MB\n",
      "None\n"
     ]
    }
   ],
   "source": [
    "# getting concise summary of dataset\n",
    "print(customer_retention_data.info())"
   ]
  },
  {
   "cell_type": "code",
   "execution_count": 4,
   "id": "d56eab56",
   "metadata": {},
   "outputs": [
    {
     "data": {
      "text/html": [
       "<div>\n",
       "<style scoped>\n",
       "    .dataframe tbody tr th:only-of-type {\n",
       "        vertical-align: middle;\n",
       "    }\n",
       "\n",
       "    .dataframe tbody tr th {\n",
       "        vertical-align: top;\n",
       "    }\n",
       "\n",
       "    .dataframe thead th {\n",
       "        text-align: right;\n",
       "    }\n",
       "</style>\n",
       "<table border=\"1\" class=\"dataframe\">\n",
       "  <thead>\n",
       "    <tr style=\"text-align: right;\">\n",
       "      <th></th>\n",
       "      <th>RowNumber</th>\n",
       "      <th>CustomerId</th>\n",
       "      <th>Surname</th>\n",
       "      <th>CreditScore</th>\n",
       "      <th>Geography</th>\n",
       "      <th>Gender</th>\n",
       "      <th>Age</th>\n",
       "      <th>Tenure</th>\n",
       "      <th>Balance</th>\n",
       "      <th>NumOfProducts</th>\n",
       "      <th>HasCrCard</th>\n",
       "      <th>IsActiveMember</th>\n",
       "      <th>EstimatedSalary</th>\n",
       "      <th>Exited</th>\n",
       "    </tr>\n",
       "  </thead>\n",
       "  <tbody>\n",
       "    <tr>\n",
       "      <th>count</th>\n",
       "      <td>10000.00000</td>\n",
       "      <td>1.000000e+04</td>\n",
       "      <td>10000</td>\n",
       "      <td>10000.000000</td>\n",
       "      <td>10000</td>\n",
       "      <td>10000</td>\n",
       "      <td>10000.000000</td>\n",
       "      <td>10000.000000</td>\n",
       "      <td>10000.000000</td>\n",
       "      <td>10000.000000</td>\n",
       "      <td>10000.00000</td>\n",
       "      <td>10000.000000</td>\n",
       "      <td>10000.000000</td>\n",
       "      <td>10000.000000</td>\n",
       "    </tr>\n",
       "    <tr>\n",
       "      <th>unique</th>\n",
       "      <td>NaN</td>\n",
       "      <td>NaN</td>\n",
       "      <td>2932</td>\n",
       "      <td>NaN</td>\n",
       "      <td>3</td>\n",
       "      <td>2</td>\n",
       "      <td>NaN</td>\n",
       "      <td>NaN</td>\n",
       "      <td>NaN</td>\n",
       "      <td>NaN</td>\n",
       "      <td>NaN</td>\n",
       "      <td>NaN</td>\n",
       "      <td>NaN</td>\n",
       "      <td>NaN</td>\n",
       "    </tr>\n",
       "    <tr>\n",
       "      <th>top</th>\n",
       "      <td>NaN</td>\n",
       "      <td>NaN</td>\n",
       "      <td>Smith</td>\n",
       "      <td>NaN</td>\n",
       "      <td>France</td>\n",
       "      <td>Male</td>\n",
       "      <td>NaN</td>\n",
       "      <td>NaN</td>\n",
       "      <td>NaN</td>\n",
       "      <td>NaN</td>\n",
       "      <td>NaN</td>\n",
       "      <td>NaN</td>\n",
       "      <td>NaN</td>\n",
       "      <td>NaN</td>\n",
       "    </tr>\n",
       "    <tr>\n",
       "      <th>freq</th>\n",
       "      <td>NaN</td>\n",
       "      <td>NaN</td>\n",
       "      <td>32</td>\n",
       "      <td>NaN</td>\n",
       "      <td>5014</td>\n",
       "      <td>5457</td>\n",
       "      <td>NaN</td>\n",
       "      <td>NaN</td>\n",
       "      <td>NaN</td>\n",
       "      <td>NaN</td>\n",
       "      <td>NaN</td>\n",
       "      <td>NaN</td>\n",
       "      <td>NaN</td>\n",
       "      <td>NaN</td>\n",
       "    </tr>\n",
       "    <tr>\n",
       "      <th>mean</th>\n",
       "      <td>5000.50000</td>\n",
       "      <td>1.569094e+07</td>\n",
       "      <td>NaN</td>\n",
       "      <td>650.528800</td>\n",
       "      <td>NaN</td>\n",
       "      <td>NaN</td>\n",
       "      <td>38.921800</td>\n",
       "      <td>5.012800</td>\n",
       "      <td>76485.889288</td>\n",
       "      <td>1.530200</td>\n",
       "      <td>0.70550</td>\n",
       "      <td>0.515100</td>\n",
       "      <td>100090.239881</td>\n",
       "      <td>0.203700</td>\n",
       "    </tr>\n",
       "    <tr>\n",
       "      <th>std</th>\n",
       "      <td>2886.89568</td>\n",
       "      <td>7.193619e+04</td>\n",
       "      <td>NaN</td>\n",
       "      <td>96.653299</td>\n",
       "      <td>NaN</td>\n",
       "      <td>NaN</td>\n",
       "      <td>10.487806</td>\n",
       "      <td>2.892174</td>\n",
       "      <td>62397.405202</td>\n",
       "      <td>0.581654</td>\n",
       "      <td>0.45584</td>\n",
       "      <td>0.499797</td>\n",
       "      <td>57510.492818</td>\n",
       "      <td>0.402769</td>\n",
       "    </tr>\n",
       "    <tr>\n",
       "      <th>min</th>\n",
       "      <td>1.00000</td>\n",
       "      <td>1.556570e+07</td>\n",
       "      <td>NaN</td>\n",
       "      <td>350.000000</td>\n",
       "      <td>NaN</td>\n",
       "      <td>NaN</td>\n",
       "      <td>18.000000</td>\n",
       "      <td>0.000000</td>\n",
       "      <td>0.000000</td>\n",
       "      <td>1.000000</td>\n",
       "      <td>0.00000</td>\n",
       "      <td>0.000000</td>\n",
       "      <td>11.580000</td>\n",
       "      <td>0.000000</td>\n",
       "    </tr>\n",
       "    <tr>\n",
       "      <th>25%</th>\n",
       "      <td>2500.75000</td>\n",
       "      <td>1.562853e+07</td>\n",
       "      <td>NaN</td>\n",
       "      <td>584.000000</td>\n",
       "      <td>NaN</td>\n",
       "      <td>NaN</td>\n",
       "      <td>32.000000</td>\n",
       "      <td>3.000000</td>\n",
       "      <td>0.000000</td>\n",
       "      <td>1.000000</td>\n",
       "      <td>0.00000</td>\n",
       "      <td>0.000000</td>\n",
       "      <td>51002.110000</td>\n",
       "      <td>0.000000</td>\n",
       "    </tr>\n",
       "    <tr>\n",
       "      <th>50%</th>\n",
       "      <td>5000.50000</td>\n",
       "      <td>1.569074e+07</td>\n",
       "      <td>NaN</td>\n",
       "      <td>652.000000</td>\n",
       "      <td>NaN</td>\n",
       "      <td>NaN</td>\n",
       "      <td>37.000000</td>\n",
       "      <td>5.000000</td>\n",
       "      <td>97198.540000</td>\n",
       "      <td>1.000000</td>\n",
       "      <td>1.00000</td>\n",
       "      <td>1.000000</td>\n",
       "      <td>100193.915000</td>\n",
       "      <td>0.000000</td>\n",
       "    </tr>\n",
       "    <tr>\n",
       "      <th>75%</th>\n",
       "      <td>7500.25000</td>\n",
       "      <td>1.575323e+07</td>\n",
       "      <td>NaN</td>\n",
       "      <td>718.000000</td>\n",
       "      <td>NaN</td>\n",
       "      <td>NaN</td>\n",
       "      <td>44.000000</td>\n",
       "      <td>7.000000</td>\n",
       "      <td>127644.240000</td>\n",
       "      <td>2.000000</td>\n",
       "      <td>1.00000</td>\n",
       "      <td>1.000000</td>\n",
       "      <td>149388.247500</td>\n",
       "      <td>0.000000</td>\n",
       "    </tr>\n",
       "    <tr>\n",
       "      <th>max</th>\n",
       "      <td>10000.00000</td>\n",
       "      <td>1.581569e+07</td>\n",
       "      <td>NaN</td>\n",
       "      <td>850.000000</td>\n",
       "      <td>NaN</td>\n",
       "      <td>NaN</td>\n",
       "      <td>92.000000</td>\n",
       "      <td>10.000000</td>\n",
       "      <td>250898.090000</td>\n",
       "      <td>4.000000</td>\n",
       "      <td>1.00000</td>\n",
       "      <td>1.000000</td>\n",
       "      <td>199992.480000</td>\n",
       "      <td>1.000000</td>\n",
       "    </tr>\n",
       "  </tbody>\n",
       "</table>\n",
       "</div>"
      ],
      "text/plain": [
       "          RowNumber    CustomerId Surname   CreditScore Geography Gender  \\\n",
       "count   10000.00000  1.000000e+04   10000  10000.000000     10000  10000   \n",
       "unique          NaN           NaN    2932           NaN         3      2   \n",
       "top             NaN           NaN   Smith           NaN    France   Male   \n",
       "freq            NaN           NaN      32           NaN      5014   5457   \n",
       "mean     5000.50000  1.569094e+07     NaN    650.528800       NaN    NaN   \n",
       "std      2886.89568  7.193619e+04     NaN     96.653299       NaN    NaN   \n",
       "min         1.00000  1.556570e+07     NaN    350.000000       NaN    NaN   \n",
       "25%      2500.75000  1.562853e+07     NaN    584.000000       NaN    NaN   \n",
       "50%      5000.50000  1.569074e+07     NaN    652.000000       NaN    NaN   \n",
       "75%      7500.25000  1.575323e+07     NaN    718.000000       NaN    NaN   \n",
       "max     10000.00000  1.581569e+07     NaN    850.000000       NaN    NaN   \n",
       "\n",
       "                 Age        Tenure        Balance  NumOfProducts    HasCrCard  \\\n",
       "count   10000.000000  10000.000000   10000.000000   10000.000000  10000.00000   \n",
       "unique           NaN           NaN            NaN            NaN          NaN   \n",
       "top              NaN           NaN            NaN            NaN          NaN   \n",
       "freq             NaN           NaN            NaN            NaN          NaN   \n",
       "mean       38.921800      5.012800   76485.889288       1.530200      0.70550   \n",
       "std        10.487806      2.892174   62397.405202       0.581654      0.45584   \n",
       "min        18.000000      0.000000       0.000000       1.000000      0.00000   \n",
       "25%        32.000000      3.000000       0.000000       1.000000      0.00000   \n",
       "50%        37.000000      5.000000   97198.540000       1.000000      1.00000   \n",
       "75%        44.000000      7.000000  127644.240000       2.000000      1.00000   \n",
       "max        92.000000     10.000000  250898.090000       4.000000      1.00000   \n",
       "\n",
       "        IsActiveMember  EstimatedSalary        Exited  \n",
       "count     10000.000000     10000.000000  10000.000000  \n",
       "unique             NaN              NaN           NaN  \n",
       "top                NaN              NaN           NaN  \n",
       "freq               NaN              NaN           NaN  \n",
       "mean          0.515100    100090.239881      0.203700  \n",
       "std           0.499797     57510.492818      0.402769  \n",
       "min           0.000000        11.580000      0.000000  \n",
       "25%           0.000000     51002.110000      0.000000  \n",
       "50%           1.000000    100193.915000      0.000000  \n",
       "75%           1.000000    149388.247500      0.000000  \n",
       "max           1.000000    199992.480000      1.000000  "
      ]
     },
     "execution_count": 4,
     "metadata": {},
     "output_type": "execute_result"
    }
   ],
   "source": [
    "# statistical summary of the dataset\n",
    "customer_retention_data.describe(include='all')"
   ]
  },
  {
   "cell_type": "markdown",
   "id": "0304f978",
   "metadata": {},
   "source": [
    "### 2.2. Identifying Categorical Columns\n",
    "\n",
    "Manually specify the categorical columns to ensure proper processing."
   ]
  },
  {
   "cell_type": "code",
   "execution_count": 5,
   "id": "c017d9e9",
   "metadata": {},
   "outputs": [
    {
     "name": "stdout",
     "output_type": "stream",
     "text": [
      "Categorical Columns: ['Surname', 'Geography', 'Gender', 'Exited']\n"
     ]
    }
   ],
   "source": [
    "# Manually specify categorical columns\n",
    "categorical_cols =  ['Surname', 'Geography', 'Gender', 'Exited']\n",
    "\n",
    "# Explanation of categorical columns\n",
    "print(\"Categorical Columns:\", categorical_cols)"
   ]
  },
  {
   "cell_type": "markdown",
   "id": "e91d4355",
   "metadata": {},
   "source": [
    "### 2.3. Identifying Numerical Columns"
   ]
  },
  {
   "cell_type": "code",
   "execution_count": 6,
   "id": "11d87b49",
   "metadata": {},
   "outputs": [
    {
     "name": "stdout",
     "output_type": "stream",
     "text": [
      "Numerical Columns: ['CreditScore', 'Age', 'Tenure', 'Balance', 'NumOfProducts', 'HasCrCard', 'IsActiveMember', 'EstimatedSalary']\n"
     ]
    }
   ],
   "source": [
    "# Numerical columns are all other columns excluding categorical and the identifier column\n",
    "numeric_cols = [col for col in customer_retention_data.columns if col not in categorical_cols + ['RowNumber', 'CustomerId', 'Exited']]\n",
    "\n",
    "print(\"Numerical Columns:\", numeric_cols)"
   ]
  },
  {
   "cell_type": "markdown",
   "id": "bc5f45d7",
   "metadata": {},
   "source": [
    "### 2.4. Identify and handle missing data"
   ]
  },
  {
   "cell_type": "code",
   "execution_count": 7,
   "id": "79fdc7dc",
   "metadata": {},
   "outputs": [
    {
     "name": "stdout",
     "output_type": "stream",
     "text": [
      "RowNumber          0\n",
      "CustomerId         0\n",
      "Surname            0\n",
      "CreditScore        0\n",
      "Geography          0\n",
      "Gender             0\n",
      "Age                0\n",
      "Tenure             0\n",
      "Balance            0\n",
      "NumOfProducts      0\n",
      "HasCrCard          0\n",
      "IsActiveMember     0\n",
      "EstimatedSalary    0\n",
      "Exited             0\n",
      "dtype: int64\n"
     ]
    }
   ],
   "source": [
    "# checking missing values\n",
    "missing_values = customer_retention_data.isnull().sum()\n",
    "print(missing_values)"
   ]
  },
  {
   "cell_type": "markdown",
   "id": "8ff0c615",
   "metadata": {},
   "source": [
    "* For the churn modeling dataset, there are no missing values found. Hence, we do not drop any rows/columns or impute missing values."
   ]
  },
  {
   "cell_type": "markdown",
   "id": "ed454b20",
   "metadata": {},
   "source": [
    "### 2.5. Identify any categorical variables that need to be encoded and applying encoding\n",
    "\n",
    "Machine learning models require numerical input. We'll encode categorical variables accordingly."
   ]
  },
  {
   "cell_type": "markdown",
   "id": "f32e0ffc",
   "metadata": {},
   "source": [
    "#### 2.5.1. Identifying Nominal and Ordinal Variables"
   ]
  },
  {
   "cell_type": "markdown",
   "id": "0c0db929",
   "metadata": {},
   "source": [
    "If the variables are ordinal, we do not need to encode them.\n",
    "For any variables that are not ordinal, we can use one-hot encoding.\n",
    "Let's start by looking at the variable's values."
   ]
  },
  {
   "cell_type": "code",
   "execution_count": 8,
   "id": "1dcd32f9",
   "metadata": {},
   "outputs": [
    {
     "name": "stdout",
     "output_type": "stream",
     "text": [
      "Surname: ['Hargrave' 'Hill' 'Onio' ... 'Kashiwagi' 'Aldridge' 'Burbidge']\n",
      "-\n",
      "Geography: ['France' 'Spain' 'Germany']\n",
      "-\n",
      "Gender: ['Female' 'Male']\n",
      "-\n",
      "Exited: [1 0]\n",
      "-\n"
     ]
    }
   ],
   "source": [
    "for col in categorical_cols:\n",
    "    print(f\"{col}: {customer_retention_data[col].unique()}\")\n",
    "    print(\"-\")"
   ]
  },
  {
   "cell_type": "markdown",
   "id": "8c0de411",
   "metadata": {},
   "source": [
    "#### 2.5.2. Apply One-Hot Encoding or Ordinal Encoding where appropriate."
   ]
  },
  {
   "cell_type": "markdown",
   "id": "da97ed03",
   "metadata": {},
   "source": [
    "In this dataset, we have two categorical columns that requires one-hot encoding i.e. Geography(nominal data) and Gender(as it has only 2 values, we can treat it as binary nominal variable). And Exited is the binary variable as it has 0 or 1, and therefore do not need to be encoded."
   ]
  },
  {
   "cell_type": "markdown",
   "id": "3795f799",
   "metadata": {},
   "source": [
    "**Assumption:**\n",
    "\n",
    "- **Ordinal Variable:**\n",
    "  - None of these variables seem to be ordinal\n",
    "- **Binary Variables**:\n",
    "  - Gender: currently as Male Female, therefore need to ecode to yes=1, and no=0\n",
    "  - Exited: Already encoded\n",
    "- **Nominal Variables:**\n",
    "  - **Geography:** (France, Spain, Germany)"
   ]
  },
  {
   "cell_type": "code",
   "execution_count": 9,
   "id": "8af77b9b",
   "metadata": {},
   "outputs": [],
   "source": [
    "male_female_mapping = {'Male': 0, 'Female': 1}    \n",
    "customer_retention_data['Gender'] = customer_retention_data['Gender'].map(male_female_mapping)"
   ]
  },
  {
   "cell_type": "code",
   "execution_count": 10,
   "id": "3e8aa539",
   "metadata": {},
   "outputs": [],
   "source": [
    "customer_retention_data = pd.get_dummies(customer_retention_data, columns= ['Geography'])"
   ]
  },
  {
   "cell_type": "markdown",
   "id": "eb0da815",
   "metadata": {},
   "source": [
    "#### Look at cleaned data set"
   ]
  },
  {
   "cell_type": "code",
   "execution_count": 11,
   "id": "9b4553ec",
   "metadata": {},
   "outputs": [
    {
     "data": {
      "text/html": [
       "<div>\n",
       "<style scoped>\n",
       "    .dataframe tbody tr th:only-of-type {\n",
       "        vertical-align: middle;\n",
       "    }\n",
       "\n",
       "    .dataframe tbody tr th {\n",
       "        vertical-align: top;\n",
       "    }\n",
       "\n",
       "    .dataframe thead th {\n",
       "        text-align: right;\n",
       "    }\n",
       "</style>\n",
       "<table border=\"1\" class=\"dataframe\">\n",
       "  <thead>\n",
       "    <tr style=\"text-align: right;\">\n",
       "      <th></th>\n",
       "      <th>RowNumber</th>\n",
       "      <th>CustomerId</th>\n",
       "      <th>Surname</th>\n",
       "      <th>CreditScore</th>\n",
       "      <th>Gender</th>\n",
       "      <th>Age</th>\n",
       "      <th>Tenure</th>\n",
       "      <th>Balance</th>\n",
       "      <th>NumOfProducts</th>\n",
       "      <th>HasCrCard</th>\n",
       "      <th>IsActiveMember</th>\n",
       "      <th>EstimatedSalary</th>\n",
       "      <th>Exited</th>\n",
       "      <th>Geography_France</th>\n",
       "      <th>Geography_Germany</th>\n",
       "      <th>Geography_Spain</th>\n",
       "    </tr>\n",
       "  </thead>\n",
       "  <tbody>\n",
       "    <tr>\n",
       "      <th>0</th>\n",
       "      <td>1</td>\n",
       "      <td>15634602</td>\n",
       "      <td>Hargrave</td>\n",
       "      <td>619</td>\n",
       "      <td>1</td>\n",
       "      <td>42</td>\n",
       "      <td>2</td>\n",
       "      <td>0.00</td>\n",
       "      <td>1</td>\n",
       "      <td>1</td>\n",
       "      <td>1</td>\n",
       "      <td>101348.88</td>\n",
       "      <td>1</td>\n",
       "      <td>True</td>\n",
       "      <td>False</td>\n",
       "      <td>False</td>\n",
       "    </tr>\n",
       "    <tr>\n",
       "      <th>1</th>\n",
       "      <td>2</td>\n",
       "      <td>15647311</td>\n",
       "      <td>Hill</td>\n",
       "      <td>608</td>\n",
       "      <td>1</td>\n",
       "      <td>41</td>\n",
       "      <td>1</td>\n",
       "      <td>83807.86</td>\n",
       "      <td>1</td>\n",
       "      <td>0</td>\n",
       "      <td>1</td>\n",
       "      <td>112542.58</td>\n",
       "      <td>0</td>\n",
       "      <td>False</td>\n",
       "      <td>False</td>\n",
       "      <td>True</td>\n",
       "    </tr>\n",
       "    <tr>\n",
       "      <th>2</th>\n",
       "      <td>3</td>\n",
       "      <td>15619304</td>\n",
       "      <td>Onio</td>\n",
       "      <td>502</td>\n",
       "      <td>1</td>\n",
       "      <td>42</td>\n",
       "      <td>8</td>\n",
       "      <td>159660.80</td>\n",
       "      <td>3</td>\n",
       "      <td>1</td>\n",
       "      <td>0</td>\n",
       "      <td>113931.57</td>\n",
       "      <td>1</td>\n",
       "      <td>True</td>\n",
       "      <td>False</td>\n",
       "      <td>False</td>\n",
       "    </tr>\n",
       "    <tr>\n",
       "      <th>3</th>\n",
       "      <td>4</td>\n",
       "      <td>15701354</td>\n",
       "      <td>Boni</td>\n",
       "      <td>699</td>\n",
       "      <td>1</td>\n",
       "      <td>39</td>\n",
       "      <td>1</td>\n",
       "      <td>0.00</td>\n",
       "      <td>2</td>\n",
       "      <td>0</td>\n",
       "      <td>0</td>\n",
       "      <td>93826.63</td>\n",
       "      <td>0</td>\n",
       "      <td>True</td>\n",
       "      <td>False</td>\n",
       "      <td>False</td>\n",
       "    </tr>\n",
       "    <tr>\n",
       "      <th>4</th>\n",
       "      <td>5</td>\n",
       "      <td>15737888</td>\n",
       "      <td>Mitchell</td>\n",
       "      <td>850</td>\n",
       "      <td>1</td>\n",
       "      <td>43</td>\n",
       "      <td>2</td>\n",
       "      <td>125510.82</td>\n",
       "      <td>1</td>\n",
       "      <td>1</td>\n",
       "      <td>1</td>\n",
       "      <td>79084.10</td>\n",
       "      <td>0</td>\n",
       "      <td>False</td>\n",
       "      <td>False</td>\n",
       "      <td>True</td>\n",
       "    </tr>\n",
       "  </tbody>\n",
       "</table>\n",
       "</div>"
      ],
      "text/plain": [
       "   RowNumber  CustomerId   Surname  CreditScore  Gender  Age  Tenure  \\\n",
       "0          1    15634602  Hargrave          619       1   42       2   \n",
       "1          2    15647311      Hill          608       1   41       1   \n",
       "2          3    15619304      Onio          502       1   42       8   \n",
       "3          4    15701354      Boni          699       1   39       1   \n",
       "4          5    15737888  Mitchell          850       1   43       2   \n",
       "\n",
       "     Balance  NumOfProducts  HasCrCard  IsActiveMember  EstimatedSalary  \\\n",
       "0       0.00              1          1               1        101348.88   \n",
       "1   83807.86              1          0               1        112542.58   \n",
       "2  159660.80              3          1               0        113931.57   \n",
       "3       0.00              2          0               0         93826.63   \n",
       "4  125510.82              1          1               1         79084.10   \n",
       "\n",
       "   Exited  Geography_France  Geography_Germany  Geography_Spain  \n",
       "0       1              True              False            False  \n",
       "1       0             False              False             True  \n",
       "2       1              True              False            False  \n",
       "3       0              True              False            False  \n",
       "4       0             False              False             True  "
      ]
     },
     "execution_count": 11,
     "metadata": {},
     "output_type": "execute_result"
    }
   ],
   "source": [
    "customer_retention_data.head()"
   ]
  },
  {
   "cell_type": "markdown",
   "id": "9941968b",
   "metadata": {},
   "source": [
    "#### 2.6. Perform train-test splitting to avoid data leakage.\n",
    "\n",
    "To prepare the data for modeling, we'll split it into training and test sets. We'll use an 80/20 split.\n",
    "\n",
    "**Note**: To avoid data leakage, it's important to split the data into training and test sets before performing standardization. This ensures that information from the test set doesn't influence the training process."
   ]
  },
  {
   "cell_type": "code",
   "execution_count": 12,
   "id": "c2409007",
   "metadata": {},
   "outputs": [
    {
     "name": "stdout",
     "output_type": "stream",
     "text": [
      "Training set size: 8000 samples\n",
      "Test set size: 2000 samples\n"
     ]
    }
   ],
   "source": [
    "# Separate the target variable and features\n",
    "X = customer_retention_data.drop(['RowNumber', 'CustomerId', 'Surname', 'Exited'], axis=1)\n",
    "y = customer_retention_data['Exited']\n",
    "\n",
    "# Perform the train-test split\n",
    "X_train, X_test, y_train, y_test = train_test_split(X, y, test_size=0.2, random_state=42)\n",
    "\n",
    "print(f\"Training set size: {X_train.shape[0]} samples\")\n",
    "print(f\"Test set size: {X_test.shape[0]} samples\")"
   ]
  },
  {
   "cell_type": "markdown",
   "id": "51fe1dd8",
   "metadata": {},
   "source": [
    "#### 2.7. Standardizing Numeric Variables After Splitting\n",
    "\n",
    "Differences in scale can adversely affect some machine learning models. We'll standardize numeric variables **after** the data split to prevent data leakage.\n",
    "\n",
    "Here, we scale the numeric variables using standardization method."
   ]
  },
  {
   "cell_type": "code",
   "execution_count": 13,
   "id": "764096e5",
   "metadata": {},
   "outputs": [
    {
     "name": "stdout",
     "output_type": "stream",
     "text": [
      "Numeric columns have been standardized after splitting.\n"
     ]
    }
   ],
   "source": [
    "# Initialize the scaler\n",
    "scaler = StandardScaler()\n",
    "\n",
    "# Fit the scaler on the training data\n",
    "X_train[numeric_cols] = scaler.fit_transform(X_train[numeric_cols])\n",
    "\n",
    "# Apply the scaler to the test data\n",
    "X_test[numeric_cols] = scaler.transform(X_test[numeric_cols])\n",
    "\n",
    "print(\"Numeric columns have been standardized after splitting.\")"
   ]
  },
  {
   "cell_type": "markdown",
   "id": "a69b027e",
   "metadata": {},
   "source": [
    "## Step 3: Logistic Regression Model\n"
   ]
  },
  {
   "cell_type": "markdown",
   "id": "01870d60",
   "metadata": {},
   "source": [
    "In this step, we fit a logistic regression model, to assess the relationship between the features and the target variable. Logistic regression is well-suited for classification problems. Here, we are predicting customer churn, estimating the probability that a given customer will churn (Exited = 1) or not (Exited = 0). After fitting the model, we evaluate its performance by making predictions on the test set and calculating key classification metrics including accuracy, precision, recall, and the F1 score to assess the balance between false positives and false negatives.\n",
    "\n",
    "We will use GridSearchCV to find the best regularization parameter `C`.\n"
   ]
  },
  {
   "cell_type": "code",
   "execution_count": 14,
   "id": "cdca682b",
   "metadata": {},
   "outputs": [
    {
     "name": "stdout",
     "output_type": "stream",
     "text": [
      "Best parameters for Logistic Regression: {'C': 100}\n"
     ]
    }
   ],
   "source": [
    "# Define the parameter grid\n",
    "param_grid_lr = {'C': [0.01, 0.1, 1, 10, 100]}\n",
    "\n",
    "# Initialize the Logistic Regression model\n",
    "lr = LogisticRegression(max_iter=1000, random_state=42)\n",
    "\n",
    "# Initialize GridSearchCV\n",
    "grid_search_lr = GridSearchCV(lr, param_grid_lr, cv=5, scoring='f1')\n",
    "\n",
    "# Fit the model\n",
    "grid_search_lr.fit(X_train, y_train)\n",
    "\n",
    "# Best parameters\n",
    "print(\"Best parameters for Logistic Regression:\", grid_search_lr.best_params_)"
   ]
  },
  {
   "cell_type": "markdown",
   "id": "471c97fa",
   "metadata": {},
   "source": [
    "#### Best Logistic Regression Model\n"
   ]
  },
  {
   "cell_type": "code",
   "execution_count": 15,
   "id": "28775f97",
   "metadata": {},
   "outputs": [],
   "source": [
    "# Get the best model\n",
    "best_lr = grid_search_lr.best_estimator_"
   ]
  },
  {
   "cell_type": "markdown",
   "id": "3b8b9206",
   "metadata": {},
   "source": [
    "#### Logistic Regression Evaluation\n"
   ]
  },
  {
   "cell_type": "markdown",
   "id": "3a5065d4",
   "metadata": {},
   "source": [
    "#### Predictions\n"
   ]
  },
  {
   "cell_type": "code",
   "execution_count": 16,
   "id": "559320ef",
   "metadata": {},
   "outputs": [],
   "source": [
    "# Make predictions\n",
    "y_pred_lr = best_lr.predict(X_test)"
   ]
  },
  {
   "cell_type": "markdown",
   "id": "828475fe",
   "metadata": {},
   "source": [
    "#### Confusion Matrix\n"
   ]
  },
  {
   "cell_type": "code",
   "execution_count": 17,
   "id": "7aeec6e7",
   "metadata": {},
   "outputs": [
    {
     "data": {
      "image/png": "[encoded data removed]",
      "text/plain": [
       "<Figure size 640x480 with 2 Axes>"
      ]
     },
     "metadata": {},
     "output_type": "display_data"
    }
   ],
   "source": [
    "# Confusion Matrix\n",
    "cm_lr = confusion_matrix(y_test, y_pred_lr)\n",
    "disp_lr = ConfusionMatrixDisplay(confusion_matrix=cm_lr)\n",
    "disp_lr.plot()\n",
    "plt.title(\"Logistic Regression Confusion Matrix\")\n",
    "plt.show()"
   ]
  },
  {
   "cell_type": "markdown",
   "id": "5d5f5e2f",
   "metadata": {},
   "source": [
    "#### Performance Metrics\n"
   ]
  },
  {
   "cell_type": "code",
   "execution_count": 18,
   "id": "ab9dac13",
   "metadata": {},
   "outputs": [
    {
     "name": "stdout",
     "output_type": "stream",
     "text": [
      "Logistic Regression Metrics:\n",
      "Accuracy: 0.8110\n",
      "Precision: 0.5524\n",
      "Recall: 0.2010\n",
      "F1 Score: 0.2948\n"
     ]
    }
   ],
   "source": [
    "accuracy_lr = accuracy_score(y_test, y_pred_lr)\n",
    "precision_lr = precision_score(y_test, y_pred_lr)\n",
    "recall_lr = recall_score(y_test, y_pred_lr)\n",
    "f1_lr = f1_score(y_test, y_pred_lr)\n",
    "\n",
    "print(f\"Logistic Regression Metrics:\")\n",
    "print(f\"Accuracy: {accuracy_lr:.4f}\")\n",
    "print(f\"Precision: {precision_lr:.4f}\")\n",
    "print(f\"Recall: {recall_lr:.4f}\")\n",
    "print(f\"F1 Score: {f1_lr:.4f}\")"
   ]
  },
  {
   "cell_type": "markdown",
   "id": "a646386f",
   "metadata": {},
   "source": [
    "## Step 4: K-Nearest Neighbors Regressor Model:\n"
   ]
  },
  {
   "cell_type": "markdown",
   "id": "10c791d0",
   "metadata": {},
   "source": [
    "For this dataset, KNN helps to identify customer churn by comparing each customer to others with similar profiles. After fitting the KNN model, we make predictions on the test set and evaluate its performance using a confusion matrix and accuracy-related metrics such as precision, recall, and F1 score, allowing a direct comparison with the logistic regression model.\n",
    "\n",
    "We will use GridSearchCV to find the best value for `n_neighbors`.\n"
   ]
  },
  {
   "cell_type": "code",
   "execution_count": 19,
   "id": "bdeed788",
   "metadata": {},
   "outputs": [
    {
     "name": "stdout",
     "output_type": "stream",
     "text": [
      "Best parameters for K-Nearest Neighbors: {'n_neighbors': 3}\n"
     ]
    }
   ],
   "source": [
    "# Define the parameter grid\n",
    "param_grid_knn = {'n_neighbors': range(1, 21)}\n",
    "\n",
    "# Initialize the KNN model\n",
    "knn = KNeighborsClassifier()\n",
    "\n",
    "# Initialize GridSearchCV\n",
    "grid_search_knn = GridSearchCV(knn, param_grid_knn, cv=5, scoring='f1')\n",
    "\n",
    "# Fit the model\n",
    "grid_search_knn.fit(X_train, y_train)\n",
    "\n",
    "# Best parameters\n",
    "print(\"Best parameters for K-Nearest Neighbors:\", grid_search_knn.best_params_)"
   ]
  },
  {
   "cell_type": "markdown",
   "id": "cd36f980",
   "metadata": {},
   "source": [
    "#### Best KNN Model\n"
   ]
  },
  {
   "cell_type": "code",
   "execution_count": 20,
   "id": "c477a9e6",
   "metadata": {},
   "outputs": [],
   "source": [
    "# Get the best model\n",
    "best_knn = grid_search_knn.best_estimator_"
   ]
  },
  {
   "cell_type": "markdown",
   "id": "35d90fac",
   "metadata": {},
   "source": [
    "#### K-Nearest Neighbors Evaluation\n"
   ]
  },
  {
   "cell_type": "markdown",
   "id": "f080cb45",
   "metadata": {},
   "source": [
    "#### Predictions\n"
   ]
  },
  {
   "cell_type": "code",
   "execution_count": 21,
   "id": "7e0921c4",
   "metadata": {},
   "outputs": [],
   "source": [
    "# Make predictions\n",
    "y_pred_knn = best_knn.predict(X_test)"
   ]
  },
  {
   "cell_type": "markdown",
   "id": "d34b1fa7",
   "metadata": {},
   "source": [
    "#### Confusion Matrix"
   ]
  },
  {
   "cell_type": "code",
   "execution_count": 22,
   "id": "19c2991e",
   "metadata": {},
   "outputs": [
    {
     "data": {
      "image/png": "[encoded data removed]",
      "text/plain": [
       "<Figure size 640x480 with 2 Axes>"
      ]
     },
     "metadata": {},
     "output_type": "display_data"
    }
   ],
   "source": [
    "# Confusion Matrix\n",
    "cm_knn = confusion_matrix(y_test, y_pred_knn)\n",
    "disp_knn = ConfusionMatrixDisplay(confusion_matrix=cm_knn)\n",
    "disp_knn.plot()\n",
    "plt.title(\"K-Nearest Neighbors Confusion Matrix\")\n",
    "plt.show()"
   ]
  },
  {
   "cell_type": "markdown",
   "id": "27e56d11",
   "metadata": {},
   "source": [
    "#### Performance Metrics\n"
   ]
  },
  {
   "cell_type": "code",
   "execution_count": 23,
   "id": "5201aaf1",
   "metadata": {},
   "outputs": [
    {
     "name": "stdout",
     "output_type": "stream",
     "text": [
      "K-Nearest Neighbors Metrics:\n",
      "Accuracy: 0.8395\n",
      "Precision: 0.6224\n",
      "Recall: 0.4656\n",
      "F1 Score: 0.5328\n"
     ]
    }
   ],
   "source": [
    "accuracy_knn = accuracy_score(y_test, y_pred_knn)\n",
    "precision_knn = precision_score(y_test, y_pred_knn)\n",
    "recall_knn = recall_score(y_test, y_pred_knn)\n",
    "f1_knn = f1_score(y_test, y_pred_knn)\n",
    "\n",
    "print(f\"K-Nearest Neighbors Metrics:\")\n",
    "print(f\"Accuracy: {accuracy_knn:.4f}\")\n",
    "print(f\"Precision: {precision_knn:.4f}\")\n",
    "print(f\"Recall: {recall_knn:.4f}\")\n",
    "print(f\"F1 Score: {f1_knn:.4f}\")"
   ]
  },
  {
   "cell_type": "markdown",
   "id": "750f21d4",
   "metadata": {},
   "source": [
    "## Step 5: Confusion Matrix Evaluation"
   ]
  },
  {
   "cell_type": "markdown",
   "id": "c9180826",
   "metadata": {},
   "source": [
    "Here, I am comparing False Positives (FP) and False Negatives (FN) based on the confusion matrices for the churn modelling data set used, for both logistic regression and K-Nearest Neighbors (KNN) models:\n",
    "\n",
    "Logistic Regression Confusion Matrix:\n",
    "* True Negatives (TN): 1543\n",
    "* True Positives (TP): 79\n",
    "* False Negatives (FN): 314\n",
    "* False Positives (FP): 64\n",
    "\n",
    "K-Nearest Neighbors (KNN) Confusion Matrix:\n",
    "* True Negatives (TN): 1496\n",
    "* True Positives (TP): 183\n",
    "* False Negatives (FN): 210\n",
    "* False Positives (FP): 111\n",
    "\n",
    "Comparison of Confusion Matrices:\n",
    "\n",
    "False Positives (FP): Logistic Regression model predicts fewer false positives than KNN model, which means fewer customers are incorrectly classified as churn but they are actually not churning.\n",
    "False Negatives (FN): KNN model has fewer false negatives than Logistic Regression model, meaning it identifies customers who are actually churning in a better way.\n",
    "\n",
    "Real-world implication:\n",
    "\n",
    "False Positives (FP): If a customer is predicted to churn but they don't, the company may waste resources trying to retain that customer with unnecessary interventions. While this costs time and money, the customer is still not lost.\n",
    "False Negatives (FN): If a customer is predicted not to churn but actually does, the company losses the chance to intervene and retain them, leading to potential revenue loss. This is more damaging than a false positive.\n",
    "\n",
    "Here we can conclude that: \n",
    "\n",
    "The Logistic Regression model minimizes false positives, which means fewer resources will be wasted on customers not at risk of churning.\n",
    "The KNN model does a better job at reducing false negatives, meaning it more accurately identifies customers who are truly at risk of churning, which is crucial for customer retention efforts.\n",
    "In the context of customer churn, minimizing False Negatives (FN) is generally more important because losing a customer has a direct financial impact."
   ]
  },
  {
   "cell_type": "markdown",
   "id": "21455edc",
   "metadata": {},
   "source": [
    "## Step 6: Model Comparison"
   ]
  },
  {
   "cell_type": "markdown",
   "id": "b7f4cdd4",
   "metadata": {},
   "source": [
    "Logistic Regression Metrics:\n",
    "* Accuracy: 0.8110\n",
    "* Precision: 0.5524\n",
    "* Recall: 0.2010\n",
    "* F1 Score: 0.2948\n",
    "\n",
    "K-Nearest Neighbors (KNN) Metrics:\n",
    "* Accuracy: 0.8395\n",
    "* Precision: 0.6224\n",
    "* Recall: 0.4656\n",
    "* F1 Score: 0.5328\n",
    "\n",
    "Comparison:\n",
    "\n",
    "* KNN performs better with an accuracy of 83.95% compared to Logistic Regression's 81.10%. This indicates that KNN is slightly better at making correct predictions.\n",
    "* KNN also has a higher precision of 62.24% compared to Logistic Regression's 55.24%. This indicates that KNN is better at correctly predicting customers who churn, it means fewer false positives.\n",
    "* KNN also has a better recall of 46.56% compared to Logistic Regression's 20.10%. This indicates that KNN is more effective at identifying customers who actually churn, it means it catches more true positives and has fewer false negatives.\n",
    "* The F1 Score for KNN of 53.28% is much higher than Logistic Regression's 29.48%. This indicates that KNN strikes a better balance between precision and recall, making it more effective at handling both false positives and false negatives.\n",
    "\n",
    "Here we can conclude that:\n",
    "\n",
    "Based on these metrics, the K-Nearest Neighbors (KNN) model outperforms the Logistic Regression model on this churn modelling data set. KNN has higher accuracy, precision, recall, and F1 score, making it a more reliable model for predicting customer churn. Therefore, KNN is the better model for this task due to its superior performance across multiple key metrics."
   ]
  }
 ],
 "metadata": {
  "kernelspec": {
   "display_name": "ml_f24",
   "language": "python",
   "name": "python3"
  },
  "language_info": {
   "codemirror_mode": {
    "name": "ipython",
    "version": 3
   },
   "file_extension": ".py",
   "mimetype": "text/x-python",
   "name": "python",
   "nbconvert_exporter": "python",
   "pygments_lexer": "ipython3",
   "version": "3.12.6"
  }
 },
 "nbformat": 4,
 "nbformat_minor": 5
}
